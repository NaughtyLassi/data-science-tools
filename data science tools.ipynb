{
 "cells": [
  {
   "cell_type": "markdown",
   "id": "8d1a5d99-a4f9-4286-8fdb-35f931915eca",
   "metadata": {},
   "source": [
    "# data science tools and ecosystem"
   ]
  },
  {
   "cell_type": "markdown",
   "id": "6d5ca1b2-eb25-4519-8451-2c0d6649f790",
   "metadata": {},
   "source": [
    "in this notebook, data science tools and ecosystem are summarized"
   ]
  },
  {
   "cell_type": "markdown",
   "id": "cb522175-a0ac-4fa8-8ade-5a33f034940d",
   "metadata": {},
   "source": [
    "popular languages of data science are:\n",
    "python\n",
    "r\n",
    "sql\n",
    "c++\n",
    "java"
   ]
  },
  {
   "cell_type": "markdown",
   "id": "4309968f-63c7-444b-b0a9-1f95b4c2d446",
   "metadata": {},
   "source": [
    "common libraries used by data scientists include:\n",
    "tensorflow\n",
    "numpy\n",
    "scipy\n",
    "pandas\n",
    "matplotlib\n",
    "keras\n",
    "scikit-learn\n",
    "pytorch"
   ]
  },
  {
   "cell_type": "markdown",
   "id": "8f115078-0cb3-48aa-8fbb-495999f01ac6",
   "metadata": {},
   "source": [
    "### data science tools\n",
    "\n",
    "| --- | --- | --- |\n",
    "| SAS | apache hadoop | tensorflow |\n"
   ]
  },
  {
   "cell_type": "markdown",
   "id": "270507ac-b8d2-4231-b57e-f5a5abb5f899",
   "metadata": {},
   "source": [
    "### below are few examples of evaluating arithmetic expression in python"
   ]
  },
  {
   "cell_type": "code",
   "execution_count": 6,
   "id": "d536bafe-d2a5-4d62-9e20-ed5f63a0816c",
   "metadata": {},
   "outputs": [
    {
     "data": {
      "text/plain": [
       "27"
      ]
     },
     "execution_count": 6,
     "metadata": {},
     "output_type": "execute_result"
    }
   ],
   "source": [
    "(4*5)+7"
   ]
  },
  {
   "cell_type": "code",
   "execution_count": 9,
   "id": "d8864d6a-d567-481e-af84-fe1dd781536b",
   "metadata": {},
   "outputs": [
    {
     "data": {
      "text/plain": [
       "540"
      ]
     },
     "execution_count": 9,
     "metadata": {},
     "output_type": "execute_result"
    }
   ],
   "source": [
    "9*60"
   ]
  },
  {
   "cell_type": "markdown",
   "id": "1e31fb9f-2bd2-4194-bb6a-e56d35883de8",
   "metadata": {},
   "source": [
    "_objectives_\n",
    "* list popular languages for data science\n",
    "* list popular libraries for data science\n",
    "* list of known data science tools\n",
    "* how to provide comments in the cell"
   ]
  },
  {
   "cell_type": "markdown",
   "id": "e7421583-4ae7-4d99-b7fc-ee6e3185aa30",
   "metadata": {},
   "source": [
    "## Author\n",
    "Aditya Sharma"
   ]
  }
 ],
 "metadata": {
  "kernelspec": {
   "display_name": "Python 3 (ipykernel)",
   "language": "python",
   "name": "python3"
  },
  "language_info": {
   "codemirror_mode": {
    "name": "ipython",
    "version": 3
   },
   "file_extension": ".py",
   "mimetype": "text/x-python",
   "name": "python",
   "nbconvert_exporter": "python",
   "pygments_lexer": "ipython3",
   "version": "3.9.12"
  }
 },
 "nbformat": 4,
 "nbformat_minor": 5
}
